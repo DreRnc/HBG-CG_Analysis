{
 "cells": [
  {
   "attachments": {},
   "cell_type": "markdown",
   "metadata": {},
   "source": [
    "# This is our notebook"
   ]
  },
  {
   "cell_type": "code",
   "execution_count": null,
   "metadata": {},
   "outputs": [],
   "source": [
    "import numpy as np\n",
    "import pandas as pd\n",
    "import time\n",
    "import matplotlib.pyplot as plt\n",
    "import os\n",
    "from data.load_data import load_monk, load_MLCup\n",
    "from src.model import MLP\n",
    "from src.Optimizers import HBG, CG"
   ]
  },
  {
   "cell_type": "code",
   "execution_count": null,
   "metadata": {},
   "outputs": [],
   "source": [
    "path = os.getcwd()\n",
    "file_train = '/data/ML-CUP22-TR.csv'\n",
    "file_test = '/data/ML-CUP22-TS.csv'\n",
    "\n",
    "labels_train = ['x1','x2','x3','x4','x5','x6','x7','x8','x9','y1','y2']\n",
    "labels_test = ['x1','x2','x3','x4','x5','x6','x7','x8','x9']\n",
    "\n",
    "X_train, y_train = load_MLCup(path + file_train, labels_train)\n",
    "X_test = load_MLCup(path + file_test, labels_test)\n",
    "\n",
    "print(X_train.shape)\n",
    "print(y_train.shape)\n",
    "print(X_test.shape)"
   ]
  },
  {
   "cell_type": "code",
   "execution_count": null,
   "metadata": {},
   "outputs": [],
   "source": [
    "alpha_l2 = 0.001\n",
    "loss = 'MSE'\n",
    "regularization = 'l2'\n",
    "stopping_criterion = 'max_epochs'\n",
    "max_epochs = 500\n",
    "verbose = False\n",
    "\n",
    "mlp = MLP([40, 20], 9, 2, task = \"regression\", activation_function = 'sigm')\n",
    "optimizer = HBG(loss, regularization, stopping_criterion)\n",
    "\n",
    "\n",
    "mlp.initialize()\n",
    "optimizer.initialize(mlp, alpha = 1e-4, beta = 0.9, stopping_value = max_epochs, alpha_l2 = alpha_l2, verbose = verbose)\n",
    "optimizer.fit_model(X_train, y_train)\n",
    "\n",
    "\n",
    "fig, ax = plt.subplots(1,1, figsize = (10,5))\n",
    "\n",
    "ax.plot(optimizer.obj_history, label = 'HBG objective function')"
   ]
  },
  {
   "cell_type": "code",
   "execution_count": null,
   "metadata": {},
   "outputs": [],
   "source": [
    "alpha_l2 = 0.001\n",
    "loss = 'MSE'\n",
    "regularization = 'l2'\n",
    "stopping_criterion = 'max_epochs'\n",
    "max_epochs = 500\n",
    "verbose = False\n",
    "\n",
    "mlp = MLP([40, 20], 9, 2, task = \"regression\", activation_function = 'sigm')\n",
    "optimizer = CG(loss, regularization, stopping_criterion)\n",
    "\n",
    "mlp.initialize()\n",
    "optimizer.initialize(mlp, stopping_value = max_epochs, alpha_l2 = alpha_l2, verbose = verbose)\n",
    "optimizer.fit_model(X_train, y_train)\n",
    "\n",
    "fig, ax = plt.subplots(1,1, figsize = (10,5))\n",
    "\n",
    "ax.plot(optimizer.obj_history, label = 'CG objective function')"
   ]
  },
  {
   "attachments": {},
   "cell_type": "markdown",
   "metadata": {},
   "source": [
    "## Grid Search on HBG"
   ]
  },
  {
   "cell_type": "code",
   "execution_count": null,
   "metadata": {},
   "outputs": [],
   "source": [
    "from src.GridSearch import GridSearch"
   ]
  },
  {
   "cell_type": "code",
   "execution_count": null,
   "metadata": {},
   "outputs": [],
   "source": [
    "loss = 'MSE'\n",
    "regularization = 'l2'\n",
    "stopping_criterion = 'max_epochs'\n",
    "\n",
    "params_grid = {\n",
    "    'stopping_value' : [500],\n",
    "    'alpha' : [1e-4, 1e-3, 1e-2],\n",
    "    'beta' : [0.7, 0.8, 0.9, 0.99],\n",
    "    'alpha_l2' : [1e-4, 1e-3, 1e-2]\n",
    "}\n",
    "\n",
    "model = MLP([40, 20], 9, 2, task = \"regression\", activation_function = 'sigm')\n",
    "optimizer = HBG(loss, regularization, stopping_criterion)\n",
    "\n",
    "grid = GridSearch(optimizer, model)\n",
    "\n",
    "tic = time.time()\n",
    "grid.fit(X_train, y_train, params_grid, parallel = False)\n",
    "toc = time.time()\n",
    "\n",
    "print(\"Time elapsed: \", toc - tic)\n",
    "\n",
    "tic = time.time()\n",
    "grid.fit(X_train, y_train, params_grid, parallel = True)\n",
    "toc = time.time()\n",
    "\n",
    "print(\"Time elapsed: \", toc - tic)"
   ]
  }
 ],
 "metadata": {
  "kernelspec": {
   "display_name": "Python 3 (ipykernel)",
   "language": "python",
   "name": "python3"
  },
  "language_info": {
   "codemirror_mode": {
    "name": "ipython",
    "version": 3
   },
   "file_extension": ".py",
   "mimetype": "text/x-python",
   "name": "python",
   "nbconvert_exporter": "python",
   "pygments_lexer": "ipython3",
   "version": "3.10.8"
  }
 },
 "nbformat": 4,
 "nbformat_minor": 2
}
