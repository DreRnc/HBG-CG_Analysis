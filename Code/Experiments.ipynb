{
 "cells": [
  {
   "attachments": {},
   "cell_type": "markdown",
   "metadata": {},
   "source": [
    "# This is our notebook"
   ]
  },
  {
   "cell_type": "code",
   "execution_count": 1,
   "metadata": {},
   "outputs": [],
   "source": [
    "import numpy as np\n",
    "import pandas as pd\n",
    "import time\n",
    "import matplotlib.pyplot as plt\n",
    "import os\n",
    "from data.load_data import load_monk, load_MLCup\n",
    "from src.model import MLP\n",
    "from src.Optimizers import HBG, CG\n",
    "from src.GridSearch import GridSearch\n",
    "from src.EarlyStopping import EarlyStopping"
   ]
  },
  {
   "cell_type": "code",
   "execution_count": 2,
   "metadata": {},
   "outputs": [],
   "source": [
    "path = os.getcwd()\n",
    "file_train = '/data/ML-CUP22-TR.csv'\n",
    "file_test = '/data/ML-CUP22-TS.csv'\n",
    "\n",
    "labels_train = ['x1','x2','x3','x4','x5','x6','x7','x8','x9','y1','y2']\n",
    "labels_test = ['x1','x2','x3','x4','x5','x6','x7','x8','x9']\n",
    "\n",
    "X_train, y_train = load_MLCup(path + file_train, labels_train)\n",
    "X_test = load_MLCup(path + file_test, labels_test)"
   ]
  },
  {
   "attachments": {},
   "cell_type": "markdown",
   "metadata": {},
   "source": [
    "### Grid Search\n",
    "\n",
    "For each architecture, we find the set of parameters with best training objective."
   ]
  },
  {
   "attachments": {},
   "cell_type": "markdown",
   "metadata": {},
   "source": [
    "HBG"
   ]
  },
  {
   "cell_type": "code",
   "execution_count": 1,
   "metadata": {},
   "outputs": [],
   "source": [
    "loss = 'MSE'\n",
    "regularization = 'l2'\n",
    "stopping_criterion = 'max_epochs'\n",
    "\n",
    "params_grid = {\n",
    "    'alpha' : [0.01, 0.05, 0.1],\n",
    "    'beta' : [0.7, 0.8, 0.9],\n",
    "}"
   ]
  },
  {
   "attachments": {},
   "cell_type": "markdown",
   "metadata": {},
   "source": [
    "Shallow architecture"
   ]
  },
  {
   "cell_type": "code",
   "execution_count": 2,
   "metadata": {},
   "outputs": [
    {
     "ename": "NameError",
     "evalue": "name 'MLP' is not defined",
     "output_type": "error",
     "traceback": [
      "\u001b[0;31m---------------------------------------------------------------------------\u001b[0m",
      "\u001b[0;31mNameError\u001b[0m                                 Traceback (most recent call last)",
      "Cell \u001b[0;32mIn[2], line 1\u001b[0m\n\u001b[0;32m----> 1\u001b[0m model \u001b[39m=\u001b[39m MLP([\u001b[39m20\u001b[39m], \u001b[39m9\u001b[39m, \u001b[39m2\u001b[39m, task \u001b[39m=\u001b[39m \u001b[39m\"\u001b[39m\u001b[39mregression\u001b[39m\u001b[39m\"\u001b[39m, activation_function \u001b[39m=\u001b[39m \u001b[39m'\u001b[39m\u001b[39msigm\u001b[39m\u001b[39m'\u001b[39m)\n\u001b[1;32m      2\u001b[0m optimizer \u001b[39m=\u001b[39m HBG(loss, regularization, stopping_criterion)\n\u001b[1;32m      4\u001b[0m grid \u001b[39m=\u001b[39m GridSearch(optimizer, model, objective \u001b[39m=\u001b[39m \u001b[39m'\u001b[39m\u001b[39mtraining_objective\u001b[39m\u001b[39m'\u001b[39m)\n",
      "\u001b[0;31mNameError\u001b[0m: name 'MLP' is not defined"
     ]
    }
   ],
   "source": [
    "model = MLP([20], 9, 2, task = \"regression\", activation_function = 'sigm')\n",
    "optimizer = HBG(loss, regularization, stopping_criterion)\n",
    "\n",
    "grid = GridSearch(optimizer, model, objective = 'training_objective')\n",
    "\n",
    "grid.fit(X_train, y_train, params_grid, parallel = True)\n"
   ]
  },
  {
   "attachments": {},
   "cell_type": "markdown",
   "metadata": {},
   "source": [
    "Deep architecture"
   ]
  },
  {
   "cell_type": "code",
   "execution_count": 8,
   "metadata": {},
   "outputs": [
    {
     "name": "stdout",
     "output_type": "stream",
     "text": [
      "Grid search of 9 combinations.\n"
     ]
    },
    {
     "name": "stderr",
     "output_type": "stream",
     "text": [
      "100%|██████████| 9/9 [00:00<00:00, 10485.76it/s]\n"
     ]
    },
    {
     "name": "stdout",
     "output_type": "stream",
     "text": [
      "\n",
      "\n",
      "Parameters of best model, evaluated on training_objective: {'alpha': 0.05, 'beta': 0.8}\n",
      "Validation error on 1 folds for best model: [1.629805108422595]\n",
      "Mean validation error: 1.629805108422595\n"
     ]
    }
   ],
   "source": [
    "model = MLP([20, 40, 20], 9, 2, task = \"regression\", activation_function = 'sigm')\n",
    "optimizer = HBG(loss, regularization, stopping_criterion)\n",
    "\n",
    "grid = GridSearch(optimizer, model, objective = 'training_objective')\n",
    "\n",
    "grid.fit(X_train, y_train, params_grid, parallel = True)"
   ]
  },
  {
   "attachments": {},
   "cell_type": "markdown",
   "metadata": {},
   "source": [
    "Linear NN (convex optimization)"
   ]
  },
  {
   "cell_type": "code",
   "execution_count": 12,
   "metadata": {},
   "outputs": [
    {
     "name": "stdout",
     "output_type": "stream",
     "text": [
      "Grid search of 9 combinations.\n"
     ]
    },
    {
     "name": "stderr",
     "output_type": "stream",
     "text": [
      "100%|██████████| 9/9 [00:00<00:00, 7479.44it/s]\n"
     ]
    },
    {
     "name": "stdout",
     "output_type": "stream",
     "text": [
      "\n",
      "\n",
      "Parameters of best model, evaluated on training_objective: {'alpha': 0.005, 'beta': 0.9}\n",
      "Validation error on 1 folds for best model: [3.004868135048993]\n",
      "Mean validation error: 3.004868135048993\n"
     ]
    }
   ],
   "source": [
    "params_grid = {\n",
    "    'alpha' : [0.001, 0.005, 0.01], #smaller steps, otherwise we incur in gradient exploding\n",
    "    'beta' : [0.7, 0.8, 0.9],\n",
    "}\n",
    "\n",
    "model = MLP([20], 9, 2, task = \"regression\", activation_function = 'id')\n",
    "optimizer = HBG(loss, regularization, stopping_criterion)\n",
    "\n",
    "grid = GridSearch(optimizer, model, objective = 'training_objective')\n",
    "\n",
    "grid.fit(X_train, y_train, params_grid, parallel = True)"
   ]
  },
  {
   "attachments": {},
   "cell_type": "markdown",
   "metadata": {},
   "source": [
    "CG\n",
    "\n",
    "We perform a different grid search for each beta type"
   ]
  },
  {
   "cell_type": "code",
   "execution_count": null,
   "metadata": {},
   "outputs": [],
   "source": [
    "loss = 'MSE'\n",
    "regularization = 'l2'\n",
    "stopping_criterion = 'max_epochs'\n",
    "\n",
    "params_grid = {\n",
    "    'm2' : [0.3, 0.4, 0.5],\n",
    "    'm1' : [0.1, 0.2]\n",
    "}"
   ]
  },
  {
   "attachments": {},
   "cell_type": "markdown",
   "metadata": {},
   "source": [
    "Shallow architecture"
   ]
  },
  {
   "attachments": {},
   "cell_type": "markdown",
   "metadata": {},
   "source": [
    "Deep architecture"
   ]
  },
  {
   "attachments": {},
   "cell_type": "markdown",
   "metadata": {},
   "source": [
    "### Experiments"
   ]
  },
  {
   "cell_type": "code",
   "execution_count": 3,
   "metadata": {},
   "outputs": [
    {
     "name": "stdout",
     "output_type": "stream",
     "text": [
      "30.190891416118905\n",
      "30.13699746044644\n",
      "30.245064802905528\n",
      "30.14471974098783\n",
      "30.134675011613137\n",
      "3.019545634436436\n",
      "3.019665626887003\n",
      "3.0194080107293204\n",
      "3.019540029448963\n",
      "3.0195369885284764\n"
     ]
    },
    {
     "data": {
      "image/png": "[encoded data removed]",
      "text/plain": [
       "<Figure size 1000x500 with 1 Axes>"
      ]
     },
     "metadata": {},
     "output_type": "display_data"
    },
    {
     "data": {
      "image/png": "[encoded data removed]",
      "text/plain": [
       "<Figure size 1000x500 with 1 Axes>"
      ]
     },
     "metadata": {},
     "output_type": "display_data"
    }
   ],
   "source": [
    "loss = 'MSE'\n",
    "regularization = 'l2'\n",
    "stopping_criterion = 'obj_tol'\n",
    "verbose = False\n",
    "\n",
    "early_stopping = EarlyStopping()\n",
    "\n",
    "mlp_shallow = MLP([20], 9, 2, task = \"regression\", activation_function = 'sigm')\n",
    "mlp_deep = MLP([20, 40, 20], 9, 2, task = \"regression\", activation_function = 'sigm')\n",
    "mlp_linear = MLP([20], 9, 2, task = \"regression\", activation_function = 'id')\n",
    "\n",
    "optimizer = HBG(loss = loss, regularization_function = regularization, stopping_criterion = stopping_criterion, early_stopping = early_stopping)\n",
    "\n",
    "for mlp, alpha, beta in zip([mlp_shallow, mlp_deep, mlp_linear], [0.01, 0.05, 0.005], [0.8, 0.8, 0.9]):\n",
    "    fig, ax = plt.subplots(1,1, figsize = (10,5))\n",
    "\n",
    "    for i in range(5):\n",
    "        mlp.initialize()\n",
    "        optimizer.initialize(mlp, alpha = 0.01, beta = 0.8, stopping_value = 1e-3, alpha_l2 = 0.001, verbose = verbose)\n",
    "        optimizer.fit_model(X_train, y_train)\n",
    "        ax.plot(optimizer.obj_history, label = 'HBG objective function')\n",
    "        print(np.min(optimizer.obj_history))"
   ]
  },
  {
   "cell_type": "code",
   "execution_count": 3,
   "metadata": {},
   "outputs": [
    {
     "name": "stdout",
     "output_type": "stream",
     "text": [
      "LS\n",
      "Armijo + strong Wolfe satisfied, we are done\n",
      "LS\n",
      "Armijo + strong Wolfe satisfied, we are done\n",
      "LS\n",
      "Armijo + strong Wolfe satisfied, we are done\n",
      "LS\n",
      "Armijo + strong Wolfe satisfied, we are done\n",
      "LS\n",
      "Armijo + strong Wolfe satisfied, we are done\n",
      "LS\n",
      "Armijo + strong Wolfe satisfied, we are done\n",
      "LS\n",
      "Armijo + strong Wolfe satisfied, we are done\n",
      "LS\n",
      "Armijo + strong Wolfe satisfied, we are done\n",
      "LS\n",
      "second loop\n",
      "0 0.13431718903572307 0.1910775814949983\n",
      "-0.32967673030861916 0.9041515802983155 0.13931635058288072\n",
      "second loop\n",
      "0 0.03588931403572627 0.13431718903572307\n",
      "-0.32967673030861916 1.1187666993323988 0.9041515802983155\n",
      "second loop\n",
      "0 0.008168680572668192 0.03588931403572627\n",
      "-0.32967673030861916 1.168181645052496 1.1187666993323988\n",
      "second loop\n",
      "0 0.0017979162425710198 0.008168680572668192\n",
      "-0.32967673030861916 1.17908557539357 1.168181645052496\n",
      "second loop\n",
      "0 0.0003928591972237207 0.0017979162425710198\n",
      "-0.32967673030861916 1.181469500604789 1.17908557539357\n",
      "second loop\n",
      "0 8.570748016497336e-05 0.0003928591972237207\n",
      "-0.32967673030861916 1.1819896489851103 1.181469500604789\n",
      "second loop\n",
      "0 1.86917974831065e-05 8.570748016497336e-05\n",
      "-0.32967673030861916 1.1821030902631848 1.1819896489851103\n",
      "second loop\n",
      "0 4.0761561928314835e-06 1.86917974831065e-05\n",
      "-0.32967673030861916 1.1821278287637684 1.1821030902631848\n",
      "second loop\n",
      "0 8.888806676866019e-07 4.0761561928314835e-06\n",
      "-0.32967673030861916 1.1821332234546529 1.1821278287637684\n",
      "max feval\n",
      "Warning: sufficient descent condition does not hold\n",
      "LS\n",
      "second loop\n",
      "0 0.0 0.01\n",
      "648.687180139281 40075.35940229106 40075.35940229106\n",
      "max feval\n",
      "Warning: sufficient descent condition does not hold\n",
      "LS\n",
      "second loop\n",
      "0 0.0 0.01\n",
      "1121020.1683365284 63145924.85366553 63145924.85366553\n",
      "max feval\n",
      "Warning: sufficient descent condition does not hold\n",
      "LS\n",
      "second loop\n",
      "0 0.0 0.01\n",
      "190985592581.88538 552570930849004.44 552570930849004.44\n",
      "max feval\n",
      "Warning: sufficient descent condition does not hold\n",
      "LS\n"
     ]
    },
    {
     "name": "stderr",
     "output_type": "stream",
     "text": [
      "/Users/biancaziliotto/Desktop/Projects/HBG-CG_Analysis/Code/src/ActivationFunctions.py:55: RuntimeWarning: overflow encountered in exp\n",
      "  return 1 / (1 + np.exp(-x))\n"
     ]
    },
    {
     "name": "stdout",
     "output_type": "stream",
     "text": [
      "second loop\n",
      "0 0.0 0.01\n",
      "4.456467367045848e+21 3.5929119374939207e+28 3.5929119374939207e+28\n",
      "max feval\n",
      "Warning: sufficient descent condition does not hold\n",
      "LS\n",
      "second loop\n",
      "0 0.0 0.01\n",
      "2.335383815240537e+42 1.5179934779595e+56 1.5179934779595e+56\n",
      "max feval\n",
      "Warning: sufficient descent condition does not hold\n",
      "LS\n",
      "second loop\n",
      "0 0.0 0.01\n",
      "6.413471728228809e+83 2.709670377772663e+111 2.709670377772663e+111\n",
      "max feval\n",
      "Warning: sufficient descent condition does not hold\n",
      "LS\n",
      "second loop\n",
      "0 0.0 0.01\n",
      "4.836854481119487e+166 8.633951001359968e+221 8.633951001359968e+221\n",
      "max feval\n",
      "Warning: sufficient descent condition does not hold\n",
      "LS\n"
     ]
    },
    {
     "name": "stderr",
     "output_type": "stream",
     "text": [
      "/Users/biancaziliotto/Desktop/Projects/HBG-CG_Analysis/Code/src/Optimizers.py:415: RuntimeWarning: overflow encountered in matmul\n",
      "  phip = np.matmul(self._flatten(phip), self._flatten(d))\n",
      "/Users/biancaziliotto/Desktop/Projects/HBG-CG_Analysis/Code/src/MetricFunctions.py:100: RuntimeWarning: overflow encountered in square\n",
      "  return np.mean(np.square(y_pred - y_true))\n",
      "/Users/biancaziliotto/Desktop/Projects/HBG-CG_Analysis/Code/src/RegularizationFunctions.py:57: RuntimeWarning: overflow encountered in square\n",
      "  return self.alpha_l1 * np.sum(np.abs(w)) + self.alpha_l2 * np.sum(np.square(w))\n",
      "/Users/biancaziliotto/Desktop/Projects/HBG-CG_Analysis/Code/src/Layers.py:180: RuntimeWarning: overflow encountered in matmul\n",
      "  grad_input = np.matmul(grad_output, self.weights.T)\n",
      "/Users/biancaziliotto/Desktop/Projects/HBG-CG_Analysis/Code/src/Layers.py:255: RuntimeWarning: invalid value encountered in multiply\n",
      "  return grad_output * self.activation.derivative(self._input)\n",
      "/Users/biancaziliotto/Desktop/Projects/HBG-CG_Analysis/Code/src/Optimizers.py:150: RuntimeWarning: overflow encountered in square\n",
      "  grad_norm += np.sum(grad**2)\n"
     ]
    },
    {
     "name": "stdout",
     "output_type": "stream",
     "text": [
      "LS\n",
      "LS\n"
     ]
    },
    {
     "ename": "KeyboardInterrupt",
     "evalue": "",
     "output_type": "error",
     "traceback": [
      "\u001b[0;31m---------------------------------------------------------------------------\u001b[0m",
      "\u001b[0;31mKeyboardInterrupt\u001b[0m                         Traceback (most recent call last)",
      "Cell \u001b[0;32mIn[3], line 26\u001b[0m\n\u001b[1;32m     24\u001b[0m mlp\u001b[39m.\u001b[39minitialize()\n\u001b[1;32m     25\u001b[0m optimizer\u001b[39m.\u001b[39minitialize(mlp, beta_type \u001b[39m=\u001b[39m beta, stopping_value \u001b[39m=\u001b[39m \u001b[39m1e-3\u001b[39m, alpha_l2 \u001b[39m=\u001b[39m alpha_l2, verbose \u001b[39m=\u001b[39m verbose)\n\u001b[0;32m---> 26\u001b[0m optimizer\u001b[39m.\u001b[39;49mfit_model(X_train, y_train)\n\u001b[1;32m     27\u001b[0m line, \u001b[39m=\u001b[39m ax[\u001b[39m0\u001b[39m]\u001b[39m.\u001b[39mplot(optimizer\u001b[39m.\u001b[39mobj_history, beta_color[beta], linewidth \u001b[39m=\u001b[39m \u001b[39m1\u001b[39m)\n\u001b[1;32m     28\u001b[0m line_zoom, \u001b[39m=\u001b[39m ax[\u001b[39m1\u001b[39m]\u001b[39m.\u001b[39mplot(optimizer\u001b[39m.\u001b[39mobj_history, beta_color[beta], linewidth \u001b[39m=\u001b[39m \u001b[39m1\u001b[39m)\n",
      "File \u001b[0;32m~/Desktop/Projects/HBG-CG_Analysis/Code/src/Optimizers.py:204\u001b[0m, in \u001b[0;36mOptimizer.fit_model\u001b[0;34m(self, X, y)\u001b[0m\n\u001b[1;32m    202\u001b[0m \u001b[39mwhile\u001b[39;00m \u001b[39mself\u001b[39m\u001b[39m.\u001b[39mn_epochs \u001b[39m<\u001b[39m \u001b[39m2\u001b[39m \u001b[39mor\u001b[39;00m \u001b[39mnot\u001b[39;00m \u001b[39mself\u001b[39m\u001b[39m.\u001b[39mverify_stopping_conditions():\n\u001b[1;32m    203\u001b[0m     \u001b[39mfor\u001b[39;00m X_batch, y_batch \u001b[39min\u001b[39;00m \u001b[39mself\u001b[39m\u001b[39m.\u001b[39mget_batches(X, y):\n\u001b[0;32m--> 204\u001b[0m         \u001b[39mself\u001b[39;49m\u001b[39m.\u001b[39;49m_step(X_batch, y_batch)\n\u001b[1;32m    205\u001b[0m     \u001b[39mif\u001b[39;00m \u001b[39mself\u001b[39m\u001b[39m.\u001b[39mverbose: \n\u001b[1;32m    206\u001b[0m         \u001b[39mprint\u001b[39m(\u001b[39mf\u001b[39m\u001b[39m\"\u001b[39m\u001b[39mEpoch \u001b[39m\u001b[39m{\u001b[39;00m\u001b[39mself\u001b[39m\u001b[39m.\u001b[39mn_epochs\u001b[39m}\u001b[39;00m\u001b[39m - Objective function: \u001b[39m\u001b[39m{\u001b[39;00m\u001b[39mself\u001b[39m\u001b[39m.\u001b[39mobj_history[\u001b[39m-\u001b[39m\u001b[39m1\u001b[39m]\u001b[39m}\u001b[39;00m\u001b[39m - Gradient norm: \u001b[39m\u001b[39m{\u001b[39;00m\u001b[39mself\u001b[39m\u001b[39m.\u001b[39mgrad_norm_history[\u001b[39m-\u001b[39m\u001b[39m1\u001b[39m]\u001b[39m}\u001b[39;00m\u001b[39m\"\u001b[39m)\n",
      "File \u001b[0;32m~/Desktop/Projects/HBG-CG_Analysis/Code/src/Optimizers.py:540\u001b[0m, in \u001b[0;36mCG._step\u001b[0;34m(self, X, y)\u001b[0m\n\u001b[1;32m    537\u001b[0m \u001b[39mif\u001b[39;00m np\u001b[39m.\u001b[39mdot(grad_params_flat, d_flat) \u001b[39m>\u001b[39m\u001b[39m=\u001b[39m \u001b[39m0\u001b[39m:\n\u001b[1;32m    538\u001b[0m     \u001b[39mprint\u001b[39m(\u001b[39m\"\u001b[39m\u001b[39mWarning: sufficient descent condition does not hold\u001b[39m\u001b[39m\"\u001b[39m)\n\u001b[0;32m--> 540\u001b[0m alpha \u001b[39m=\u001b[39m \u001b[39mself\u001b[39;49m\u001b[39m.\u001b[39;49m_AWLS(d, X, y)\n\u001b[1;32m    542\u001b[0m \u001b[39mself\u001b[39m\u001b[39m.\u001b[39m_update_params(alpha, d)\n\u001b[1;32m    544\u001b[0m \u001b[39mself\u001b[39m\u001b[39m.\u001b[39mlast_d \u001b[39m=\u001b[39m d\n",
      "File \u001b[0;32m~/Desktop/Projects/HBG-CG_Analysis/Code/src/Optimizers.py:446\u001b[0m, in \u001b[0;36mCG._AWLS\u001b[0;34m(self, d, X, y)\u001b[0m\n\u001b[1;32m    442\u001b[0m [phi0 , phip0] \u001b[39m=\u001b[39m \u001b[39mself\u001b[39m\u001b[39m.\u001b[39m_phi(\u001b[39m0\u001b[39m, d, X, y)\n\u001b[1;32m    444\u001b[0m \u001b[39mwhile\u001b[39;00m feval \u001b[39m<\u001b[39m\u001b[39m=\u001b[39m \u001b[39mself\u001b[39m\u001b[39m.\u001b[39mMaxFeval:\n\u001b[0;32m--> 446\u001b[0m     [ phi_as , phip_as ] \u001b[39m=\u001b[39m \u001b[39mself\u001b[39;49m\u001b[39m.\u001b[39;49m_phi(alpha_s, d, X, y)\n\u001b[1;32m    447\u001b[0m     feval \u001b[39m=\u001b[39m feval \u001b[39m+\u001b[39m \u001b[39m1\u001b[39m\n\u001b[1;32m    448\u001b[0m     \u001b[39mif\u001b[39;00m ( phi_as \u001b[39m<\u001b[39m\u001b[39m=\u001b[39m phi0 \u001b[39m+\u001b[39m \u001b[39mself\u001b[39m\u001b[39m.\u001b[39mm1 \u001b[39m*\u001b[39m alpha_s \u001b[39m*\u001b[39m phip0) \u001b[39mand\u001b[39;00m ( np\u001b[39m.\u001b[39mabs( phip_as ) \u001b[39m<\u001b[39m\u001b[39m=\u001b[39m \u001b[39m-\u001b[39m \u001b[39mself\u001b[39m\u001b[39m.\u001b[39mm2 \u001b[39m*\u001b[39m phip0 ):\n",
      "File \u001b[0;32m~/Desktop/Projects/HBG-CG_Analysis/Code/src/Optimizers.py:414\u001b[0m, in \u001b[0;36mCG._phi\u001b[0;34m(self, alpha, d, X, y)\u001b[0m\n\u001b[1;32m    412\u001b[0m \u001b[39m# compute tomography and its derivative\u001b[39;00m\n\u001b[1;32m    413\u001b[0m \u001b[39mself\u001b[39m\u001b[39m.\u001b[39m_update_params(alpha, d)\n\u001b[0;32m--> 414\u001b[0m phi, phip, _ \u001b[39m=\u001b[39m \u001b[39mself\u001b[39;49m\u001b[39m.\u001b[39;49m_forward_backward(X,y)\n\u001b[1;32m    415\u001b[0m phip \u001b[39m=\u001b[39m np\u001b[39m.\u001b[39mmatmul(\u001b[39mself\u001b[39m\u001b[39m.\u001b[39m_flatten(phip), \u001b[39mself\u001b[39m\u001b[39m.\u001b[39m_flatten(d))\n\u001b[1;32m    417\u001b[0m \u001b[39m# reset model to current params\u001b[39;00m\n",
      "File \u001b[0;32m~/Desktop/Projects/HBG-CG_Analysis/Code/src/Optimizers.py:145\u001b[0m, in \u001b[0;36mOptimizer._forward_backward\u001b[0;34m(self, X, y)\u001b[0m\n\u001b[1;32m    141\u001b[0m J \u001b[39m=\u001b[39m \u001b[39mself\u001b[39m\u001b[39m.\u001b[39m_objective_function(y, y_pred)\n\u001b[1;32m    143\u001b[0m grad_output \u001b[39m=\u001b[39m \u001b[39mself\u001b[39m\u001b[39m.\u001b[39mloss\u001b[39m.\u001b[39mderivative(y, y_pred)\n\u001b[0;32m--> 145\u001b[0m grad_params \u001b[39m=\u001b[39m \u001b[39mself\u001b[39;49m\u001b[39m.\u001b[39;49mmodel\u001b[39m.\u001b[39;49mbackward(grad_output, \u001b[39mself\u001b[39;49m\u001b[39m.\u001b[39;49mregularization_function)\n\u001b[1;32m    147\u001b[0m grad_norm \u001b[39m=\u001b[39m \u001b[39m0\u001b[39m\n\u001b[1;32m    148\u001b[0m \u001b[39mfor\u001b[39;00m grad_layer \u001b[39min\u001b[39;00m grad_params:\n",
      "File \u001b[0;32m~/Desktop/Projects/HBG-CG_Analysis/Code/src/model.py:119\u001b[0m, in \u001b[0;36mMLP.backward\u001b[0;34m(self, grad_output, regularization_function)\u001b[0m\n\u001b[1;32m    116\u001b[0m grad_params \u001b[39m=\u001b[39m []\n\u001b[1;32m    118\u001b[0m \u001b[39mfor\u001b[39;00m layer \u001b[39min\u001b[39;00m \u001b[39mreversed\u001b[39m(\u001b[39mself\u001b[39m\u001b[39m.\u001b[39mlayers):\n\u001b[0;32m--> 119\u001b[0m     grad_layer, grad_output \u001b[39m=\u001b[39m layer\u001b[39m.\u001b[39;49mbackward(grad_output, regularization_function)\n\u001b[1;32m    120\u001b[0m     grad_params\u001b[39m.\u001b[39mappend(grad_layer)\n\u001b[1;32m    122\u001b[0m \u001b[39m# We want to output from the first layer to the last\u001b[39;00m\n",
      "File \u001b[0;32m~/Desktop/Projects/HBG-CG_Analysis/Code/src/Layers.py:365\u001b[0m, in \u001b[0;36mDense.backward\u001b[0;34m(self, grad_output, regularization_function)\u001b[0m\n\u001b[1;32m    354\u001b[0m \u001b[39m\u001b[39m\u001b[39m\"\"\"\u001b[39;00m\n\u001b[1;32m    355\u001b[0m \u001b[39mPerforms backpropagation, first on AL and then on FCL.\u001b[39;00m\n\u001b[1;32m    356\u001b[0m \n\u001b[0;32m   (...)\u001b[0m\n\u001b[1;32m    362\u001b[0m \n\u001b[1;32m    363\u001b[0m \u001b[39m\"\"\"\u001b[39;00m\n\u001b[1;32m    364\u001b[0m grad_output_FCL \u001b[39m=\u001b[39m \u001b[39mself\u001b[39m\u001b[39m.\u001b[39m_activation_layer\u001b[39m.\u001b[39mbackward(grad_output)\n\u001b[0;32m--> 365\u001b[0m \u001b[39mreturn\u001b[39;00m \u001b[39mself\u001b[39;49m\u001b[39m.\u001b[39;49m_fully_connected_layer\u001b[39m.\u001b[39;49mbackward(grad_output_FCL, regularization_function)\n",
      "File \u001b[0;32m~/Desktop/Projects/HBG-CG_Analysis/Code/src/Layers.py:181\u001b[0m, in \u001b[0;36mFullyConnectedLayer.backward\u001b[0;34m(self, grad_output, regularization_function)\u001b[0m\n\u001b[1;32m    166\u001b[0m \u001b[39m\u001b[39m\u001b[39m\"\"\"\u001b[39;00m\n\u001b[1;32m    167\u001b[0m \u001b[39mPerforms backpropagation, calculating gradientd with respect to weights and biases\u001b[39;00m\n\u001b[1;32m    168\u001b[0m \u001b[39mand passing gradient for next step.\u001b[39;00m\n\u001b[0;32m   (...)\u001b[0m\n\u001b[1;32m    178\u001b[0m \n\u001b[1;32m    179\u001b[0m \u001b[39m\"\"\"\u001b[39;00m\n\u001b[1;32m    180\u001b[0m grad_input \u001b[39m=\u001b[39m np\u001b[39m.\u001b[39mmatmul(grad_output, \u001b[39mself\u001b[39m\u001b[39m.\u001b[39mweights\u001b[39m.\u001b[39mT)\n\u001b[0;32m--> 181\u001b[0m grad_weights \u001b[39m=\u001b[39m np\u001b[39m.\u001b[39;49mmatmul(\u001b[39mself\u001b[39;49m\u001b[39m.\u001b[39;49m_input\u001b[39m.\u001b[39;49mT, grad_output) \u001b[39m+\u001b[39m regularization_function\u001b[39m.\u001b[39mderivative(\u001b[39mself\u001b[39m\u001b[39m.\u001b[39mweights)\n\u001b[1;32m    182\u001b[0m grad_biases \u001b[39m=\u001b[39m grad_output\u001b[39m.\u001b[39msum(axis \u001b[39m=\u001b[39m \u001b[39m0\u001b[39m, keepdims \u001b[39m=\u001b[39m \u001b[39mTrue\u001b[39;00m)\n\u001b[1;32m    184\u001b[0m grad_layer \u001b[39m=\u001b[39m {\u001b[39m\"\u001b[39m\u001b[39mweights\u001b[39m\u001b[39m\"\u001b[39m: grad_weights, \u001b[39m\"\u001b[39m\u001b[39mbiases\u001b[39m\u001b[39m\"\u001b[39m: grad_biases}\n",
      "\u001b[0;31mKeyboardInterrupt\u001b[0m: "
     ]
    },
    {
     "data": {
      "image/png": "[encoded data removed]",
      "text/plain": [
       "<Figure size 1000x500 with 2 Axes>"
      ]
     },
     "metadata": {},
     "output_type": "display_data"
    }
   ],
   "source": [
    "alpha_l2 = 0.001\n",
    "loss = 'MSE'\n",
    "regularization = 'l2'\n",
    "stopping_criterion = 'obj_tol'\n",
    "verbose = False\n",
    "\n",
    "early_stopping = EarlyStopping()\n",
    "\n",
    "mlp_shallow = MLP([20], 9, 2, task = \"regression\", activation_function = 'sigm')\n",
    "mlp_deep = MLP([20, 40, 20], 9, 2, task = \"regression\", activation_function = 'sigm')\n",
    "mlp_linear = MLP([20], 9, 2, task = \"regression\", activation_function = 'id')\n",
    "\n",
    "optimizer = CG(loss, regularization, stopping_criterion, early_stopping)\n",
    "beta_color = {'FR' : 'r', 'HS+' : 'b', 'PR+' : 'y'}\n",
    "\n",
    "for mlp in [mlp_deep, mlp_linear]:\n",
    "    \n",
    "    fig, ax = plt.subplots(1,2, figsize = (10,5))\n",
    "\n",
    "    for beta in ['FR', 'HS+', 'PR+']: \n",
    "\n",
    "        for i in range(5):\n",
    "\n",
    "            mlp.initialize()\n",
    "            optimizer.initialize(mlp, beta_type = beta, stopping_value = 1e-3, alpha_l2 = alpha_l2, verbose = verbose)\n",
    "            optimizer.fit_model(X_train, y_train)\n",
    "            line, = ax[0].plot(optimizer.obj_history, beta_color[beta], linewidth = 1)\n",
    "            line_zoom, = ax[1].plot(optimizer.obj_history, beta_color[beta], linewidth = 1)\n",
    "            if i == 1:\n",
    "                line.set_label(beta)\n",
    "                line_zoom.set_label(beta)\n",
    "            ax[1].set_ylim(0,20)\n",
    "            print(np.min(optimizer.obj_history))\n",
    "\n",
    "    ax[0].legend()\n",
    "    ax[1].legend()\n",
    "\n",
    "    ax[0].set_xlabel(\"epochs\")\n",
    "    ax[0].set_ylabel(\"J\")\n",
    "    ax[0].set_title(\"learning curve\")\n",
    "    ax[1].set_xlabel(\"epochs\")\n",
    "    ax[1].set_ylabel(\"J\")\n",
    "    ax[1].set_title(\"learning curve (zoomed)\")"
   ]
  }
 ],
 "metadata": {
  "kernelspec": {
   "display_name": "Python 3 (ipykernel)",
   "language": "python",
   "name": "python3"
  },
  "language_info": {
   "codemirror_mode": {
    "name": "ipython",
    "version": 3
   },
   "file_extension": ".py",
   "mimetype": "text/x-python",
   "name": "python",
   "nbconvert_exporter": "python",
   "pygments_lexer": "ipython3",
   "version": "3.10.8"
  }
 },
 "nbformat": 4,
 "nbformat_minor": 2
}
