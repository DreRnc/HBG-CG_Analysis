{
 "cells": [
  {
   "cell_type": "code",
   "execution_count": 1,
   "metadata": {},
   "outputs": [],
   "source": [
    "import numpy as np"
   ]
  },
  {
   "cell_type": "code",
   "execution_count": 2,
   "metadata": {},
   "outputs": [],
   "source": [
    "# Description: This file contains the data for the plots in the test notebook\n",
    "    \n",
    "J_star_shallow_HBG = [\n",
    "    1.7386637662989601,\n",
    "    1.7429634078663645,\n",
    "    1.7616274742453262,\n",
    "    1.7450067317175428,\n",
    "    1.7402674328549306\n",
    "]\n",
    "J_star_shallow_CG_FR = [\n",
    "    1.7215039772571652,\n",
    "    1.7171387255411774,\n",
    "    1.720526921589777,\n",
    "    1.7159006228377573,\n",
    "    1.7188413466864116\n",
    "]\n",
    "J_star_shallow_CG_HS = [    \n",
    "    1.712337182316829,\n",
    "    1.7132547149381856,\n",
    "    1.7162367014430764,\n",
    "    1.7174721669961182,\n",
    "    1.7190915033867946\n",
    "]\n",
    "J_star_shallow_CG_PR = [\n",
    "    1.7163119226080625,\n",
    "    1.7171301485865802,\n",
    "    1.7162625077737497,\n",
    "    1.720825730637988,\n",
    "    1.72030222336823\n",
    "]\n",
    "\n",
    "J_star_deep_HBG = [\n",
    "    1.745456665999757,\n",
    "    1.746264431748739,\n",
    "    1.740235449494918,\n",
    "    1.7662682055223051,\n",
    "    1.7483083956195828\n",
    "]\n",
    "J_star_deep_CG_FR = [\n",
    "    1.6553447049027523,\n",
    "    1.661390156895108,\n",
    "    1.6693346599003054,\n",
    "    1.6589763444901473,\n",
    "    1.658880220043081\n",
    "]\n",
    "J_star_deep_CG_HS = [\n",
    "    1.6632468356980752,\n",
    "    1.6580556297057032,\n",
    "    1.6603976456725522,\n",
    "    1.6623516359050712,\n",
    "    1.6620577232085265\n",
    "]\n",
    "J_star_deep_CG_PR = [\n",
    "    1.660833398011501,\n",
    "    1.6614188932929994,\n",
    "    1.6640205728071238,\n",
    "    1.6746906624662834,\n",
    "    1.656478240366498\n",
    "]"
   ]
  },
  {
   "cell_type": "code",
   "execution_count": 6,
   "metadata": {},
   "outputs": [
    {
     "name": "stdout",
     "output_type": "stream",
     "text": [
      "[1.7457057625966246, 1.718782318782458, 1.7156784538162007, 1.7181665065949219]\n",
      "[0.008254395164960338, 0.002071719979253141, 0.002538367985039561, 0.0019885416688520297]\n",
      "[1.7493066296770603, 1.660785217246279, 1.6612218940379855, 1.6634883533888811]\n",
      "[0.00888881347352986, 0.004689544353673284, 0.0018319350973843404, 0.006103247068662979]\n"
     ]
    }
   ],
   "source": [
    "J_mean_shallow = [\n",
    "    np.mean(J_star_shallow_HBG),\n",
    "    np.mean(J_star_shallow_CG_FR),\n",
    "    np.mean(J_star_shallow_CG_HS),\n",
    "    np.mean(J_star_shallow_CG_PR)\n",
    "]\n",
    "J_mean_deep = [\n",
    "    np.mean(J_star_deep_HBG),\n",
    "    np.mean(J_star_deep_CG_FR),\n",
    "    np.mean(J_star_deep_CG_HS),\n",
    "    np.mean(J_star_deep_CG_PR)\n",
    "]\n",
    "J_std_shallow = [\n",
    "    np.std(J_star_shallow_HBG),\n",
    "    np.std(J_star_shallow_CG_FR),\n",
    "    np.std(J_star_shallow_CG_HS),\n",
    "    np.std(J_star_shallow_CG_PR)\n",
    "]\n",
    "J_std_deep = [\n",
    "    np.std(J_star_deep_HBG),\n",
    "    np.std(J_star_deep_CG_FR),\n",
    "    np.std(J_star_deep_CG_HS),\n",
    "    np.std(J_star_deep_CG_PR)\n",
    "]\n",
    "\n",
    "print(J_mean_shallow)\n",
    "print(J_std_shallow)\n",
    "print(J_mean_deep)\n",
    "print(J_std_deep)"
   ]
  },
  {
   "cell_type": "code",
   "execution_count": null,
   "metadata": {},
   "outputs": [],
   "source": []
  }
 ],
 "metadata": {
  "kernelspec": {
   "display_name": "CMenv",
   "language": "python",
   "name": "python3"
  },
  "language_info": {
   "codemirror_mode": {
    "name": "ipython",
    "version": 3
   },
   "file_extension": ".py",
   "mimetype": "text/x-python",
   "name": "python",
   "nbconvert_exporter": "python",
   "pygments_lexer": "ipython3",
   "version": "3.10.8"
  },
  "orig_nbformat": 4
 },
 "nbformat": 4,
 "nbformat_minor": 2
}
